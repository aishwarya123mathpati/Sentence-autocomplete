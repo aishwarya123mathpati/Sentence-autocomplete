{
 "cells": [
  {
   "cell_type": "code",
   "execution_count": 19,
   "id": "9f0af08f-6779-4a94-990b-b910d0965523",
   "metadata": {},
   "outputs": [
    {
     "name": "stderr",
     "output_type": "stream",
     "text": [
      "Truncation was not explicitly activated but `max_length` is provided a specific value, please use `truncation=True` to explicitly truncate examples to max length. Defaulting to 'longest_first' truncation strategy. If you encode pairs of sequences (GLUE-style) with the tokenizer you can select this strategy more precisely by providing a specific strategy to `truncation`.\n",
      "Setting `pad_token_id` to `eos_token_id`:None for open-end generation.\n"
     ]
    },
    {
     "name": "stdout",
     "output_type": "stream",
     "text": [
      "Input Sentence: Artificial Intelligence is transforming the world by\n",
      "Autocompleted Sentence: Artificial Intelligence is transforming the world by making us less efficient at working with people,\" said Robert Gitt, professor of economics at Harvard University.\n",
      "\n",
      "The next generation of AI engineers will be able to automate human behavior as well as our everyday social\n"
     ]
    }
   ],
   "source": [
    "from transformers import pipeline\n",
    "\n",
    "def sentence_autocomplete(input_text, max_length=50):\n",
    "    \"\"\"\n",
    "    Generate sentence autocompletion based on input text.\n",
    "    \n",
    "    Parameters:\n",
    "        input_text (str): The input sentence to complete.\n",
    "        max_length (int): Maximum length of the output sentence.\n",
    "        \n",
    "    Returns:\n",
    "        str: Autocompleted sentence.\n",
    "    \"\"\"\n",
    "    # Initialize the text-generation pipeline\n",
    "    generator = pipeline(\"text-generation\", model=\"gpt2\")\n",
    "    \n",
    "    # Generate text based on input\n",
    "    completion = generator(input_text, max_length=max_length, num_return_sequences=1)\n",
    "    \n",
    "    return completion[0]['generated_text']\n",
    "\n",
    "# Example input\n",
    "input_text = \"Artificial Intelligence is transforming the world by\"\n",
    "completed_sentence = sentence_autocomplete(input_text)\n",
    "\n"
   ]
  },
  {
   "cell_type": "code",
   "execution_count": 21,
   "id": "03638d65-a145-4162-ba20-dd4d85a50d3b",
   "metadata": {},
   "outputs": [
    {
     "name": "stderr",
     "output_type": "stream",
     "text": [
      "Truncation was not explicitly activated but `max_length` is provided a specific value, please use `truncation=True` to explicitly truncate examples to max length. Defaulting to 'longest_first' truncation strategy. If you encode pairs of sequences (GLUE-style) with the tokenizer you can select this strategy more precisely by providing a specific strategy to `truncation`.\n",
      "Setting `pad_token_id` to `eos_token_id`:None for open-end generation.\n"
     ]
    },
    {
     "name": "stdout",
     "output_type": "stream",
     "text": [
      "Input Sentence: The rapid advancements in artificial intelligence have led to\n",
      "Autocompleted Sentence: The rapid advancements in artificial intelligence have led to the emergence of the \"supercomputer\", which is now almost a millionth of a nanometers in length when it's used. So that's where artificial intelligence, or AI-assisted AI, came from\n"
     ]
    }
   ],
   "source": [
    "# example 2\n",
    "\n",
    "input_text = \"The rapid advancements in artificial intelligence have led to\"\n",
    "completed_sentence = sentence_autocomplete(input_text)\n",
    "\n",
    "# Print results\n",
    "print(\"Input Sentence:\", input_text)\n",
    "print(\"Autocompleted Sentence:\", completed_sentence)\n"
   ]
  },
  {
   "cell_type": "code",
   "execution_count": null,
   "id": "3075701a-816b-40f7-8ef9-48dc0717d9b0",
   "metadata": {},
   "outputs": [],
   "source": []
  }
 ],
 "metadata": {
  "kernelspec": {
   "display_name": "Python 3 (ipykernel)",
   "language": "python",
   "name": "python3"
  },
  "language_info": {
   "codemirror_mode": {
    "name": "ipython",
    "version": 3
   },
   "file_extension": ".py",
   "mimetype": "text/x-python",
   "name": "python",
   "nbconvert_exporter": "python",
   "pygments_lexer": "ipython3",
   "version": "3.12.4"
  }
 },
 "nbformat": 4,
 "nbformat_minor": 5
}
